{
 "cells": [
  {
   "cell_type": "code",
   "execution_count": 2,
   "id": "3e87f6c2-d121-4ed1-8e68-ff4044536bec",
   "metadata": {},
   "outputs": [
    {
     "name": "stdout",
     "output_type": "stream",
     "text": [
      "Dataset Shape: (5572, 2)\n",
      "✅ Accuracy: 0.9919282511210762\n",
      "\n",
      "Confusion Matrix:\n",
      " [[966   0]\n",
      " [  9 140]]\n",
      "\n",
      "Classification Report:\n",
      "               precision    recall  f1-score   support\n",
      "\n",
      "           0       0.99      1.00      1.00       966\n",
      "           1       1.00      0.94      0.97       149\n",
      "\n",
      "    accuracy                           0.99      1115\n",
      "   macro avg       1.00      0.97      0.98      1115\n",
      "weighted avg       0.99      0.99      0.99      1115\n",
      "\n",
      "\n",
      "Custom Predictions: [1 0]\n"
     ]
    }
   ],
   "source": [
    "# 📌 Step 1: Import Libraries\n",
    "import pandas as pd\n",
    "import numpy as np\n",
    "from sklearn.model_selection import train_test_split\n",
    "from sklearn.feature_extraction.text import CountVectorizer\n",
    "from sklearn.naive_bayes import MultinomialNB\n",
    "from sklearn.metrics import accuracy_score, confusion_matrix, classification_report\n",
    "\n",
    "# 📌 Step 2: Load Dataset\n",
    "# You can use the SMS Spam Collection dataset (or any dataset you have)\n",
    "# Dataset link: https://raw.githubusercontent.com/justmarkham/pycon-2016-tutorial/master/data/sms.tsv\n",
    "data = pd.read_csv(\"https://raw.githubusercontent.com/justmarkham/pycon-2016-tutorial/master/data/sms.tsv\", \n",
    "                   sep='\\t', names=['label', 'message'])\n",
    "\n",
    "print(\"Dataset Shape:\", data.shape)\n",
    "data.head()\n",
    "\n",
    "# 📌 Step 3: Preprocessing\n",
    "# Convert labels to numeric: ham=0, spam=1\n",
    "data['label_num'] = data.label.map({'ham':0, 'spam':1})\n",
    "\n",
    "X = data['message']\n",
    "y = data['label_num']\n",
    "\n",
    "# 📌 Step 4: Train-Test Split\n",
    "X_train, X_test, y_train, y_test = train_test_split(X, y, test_size=0.2, random_state=42)\n",
    "\n",
    "# 📌 Step 5: Feature Extraction (Bag of Words)\n",
    "vectorizer = CountVectorizer()\n",
    "X_train_vec = vectorizer.fit_transform(X_train)\n",
    "X_test_vec = vectorizer.transform(X_test)\n",
    "\n",
    "# 📌 Step 6: Model Training (Naive Bayes)\n",
    "model = MultinomialNB()\n",
    "model.fit(X_train_vec, y_train)\n",
    "\n",
    "# 📌 Step 7: Predictions\n",
    "y_pred = model.predict(X_test_vec)\n",
    "\n",
    "# 📌 Step 8: Evaluation\n",
    "print(\"✅ Accuracy:\", accuracy_score(y_test, y_pred))\n",
    "print(\"\\nConfusion Matrix:\\n\", confusion_matrix(y_test, y_pred))\n",
    "print(\"\\nClassification Report:\\n\", classification_report(y_test, y_pred))\n",
    "\n",
    "# 📌 Step 9: Test with Custom Input\n",
    "custom_message = [\"Congratulations! You won a free ticket.\", \"Hey, are we meeting today?\"]\n",
    "custom_vec = vectorizer.transform(custom_message)\n",
    "print(\"\\nCustom Predictions:\", model.predict(custom_vec))\n"
   ]
  },
  {
   "cell_type": "code",
   "execution_count": null,
   "id": "09549258-e1c7-4458-b287-e09d513e3f71",
   "metadata": {},
   "outputs": [],
   "source": []
  }
 ],
 "metadata": {
  "kernelspec": {
   "display_name": "Python 3 (ipykernel)",
   "language": "python",
   "name": "python3"
  },
  "language_info": {
   "codemirror_mode": {
    "name": "ipython",
    "version": 3
   },
   "file_extension": ".py",
   "mimetype": "text/x-python",
   "name": "python",
   "nbconvert_exporter": "python",
   "pygments_lexer": "ipython3",
   "version": "3.12.4"
  }
 },
 "nbformat": 4,
 "nbformat_minor": 5
}
